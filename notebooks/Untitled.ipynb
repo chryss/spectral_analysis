{
 "cells": [
  {
   "cell_type": "code",
   "execution_count": 8,
   "id": "25bd4ebd",
   "metadata": {},
   "outputs": [],
   "source": [
    "import xarray as xr\n",
    "from shapely.geometry import Polygon\n",
    "import geopandas as gpd\n",
    "import matplotlib.pyplot as plt\n",
    "from rasterstats import zonal_stats\n",
    "import rioxarray"
   ]
  },
  {
   "cell_type": "code",
   "execution_count": 21,
   "id": "11c70672",
   "metadata": {},
   "outputs": [
    {
     "name": "stderr",
     "output_type": "stream",
     "text": [
      "/Users/cwaigl/miniconda3/envs/python38_geo/lib/python3.8/site-packages/rasterstats/io.py:302: UserWarning: Setting nodata to -999; specify nodata explicitly\n",
      "  warnings.warn(\"Setting nodata to -999; specify nodata explicitly\")\n"
     ]
    },
    {
     "data": {
      "text/plain": [
       "[{'mean': 4.5, 'count': 2}, {'mean': 6.0, 'count': 1}]"
      ]
     },
     "execution_count": 21,
     "metadata": {},
     "output_type": "execute_result"
    }
   ],
   "source": [
    "da = xr.DataArray(\n",
    "[[1,2,3],\n",
    "       [4,5,6]],\n",
    "dims=(\"x\", \"y\"),\n",
    "coords={\"x\": [0.5,1.5], \"y\": [2.5,1.5,0.5]},\n",
    ")\n",
    "\n",
    "d = {'geometry': [Polygon([(0, 0), (0,2), (2, 2), (2, 0)]),Polygon([(2,0),(2,2),(3,2),(3,0)])]}\n",
    "gdf = gpd.GeoDataFrame(d)\n",
    "\n",
    "zonal_stats(\n",
    "    vectors=gdf,\n",
    "    raster=da.values,\n",
    "    affine=da.rio.transform(),\n",
    "    stats=[\"mean\",\"count\"],\n",
    "    all_touched=True,\n",
    ")\n"
   ]
  },
  {
   "cell_type": "code",
   "execution_count": 22,
   "id": "acd971bf",
   "metadata": {},
   "outputs": [
    {
     "data": {
      "text/plain": [
       "(0.0, 4.0)"
      ]
     },
     "execution_count": 22,
     "metadata": {},
     "output_type": "execute_result"
    },
    {
     "data": {
      "image/png": "[encoded data removed]",
      "text/plain": [
       "<Figure size 432x288 with 2 Axes>"
      ]
     },
     "metadata": {
      "needs_background": "light"
     },
     "output_type": "display_data"
    }
   ],
   "source": [
    "#plotting to illustrate the data\n",
    "fig, ax = plt.subplots()\n",
    "da.plot(ax=ax,x=\"x\",y=\"y\")\n",
    "gdf.boundary.plot(ax=ax, color='r', lw=1)\n",
    "ax.set_xlim(0,4)\n",
    "ax.set_ylim(0,4)"
   ]
  },
  {
   "cell_type": "code",
   "execution_count": 11,
   "id": "49fd7648",
   "metadata": {},
   "outputs": [
    {
     "data": {
      "text/plain": [
       "Affine(1.0, 0.0, 0.0,\n",
       "       0.0, -1.0, 3.0)"
      ]
     },
     "execution_count": 11,
     "metadata": {},
     "output_type": "execute_result"
    }
   ],
   "source": [
    "da.rio.transform()"
   ]
  },
  {
   "cell_type": "code",
   "execution_count": null,
   "id": "4d6d0acf",
   "metadata": {},
   "outputs": [],
   "source": []
  }
 ],
 "metadata": {
  "kernelspec": {
   "display_name": "Python 3 (ipykernel)",
   "language": "python",
   "name": "python3"
  },
  "language_info": {
   "codemirror_mode": {
    "name": "ipython",
    "version": 3
   },
   "file_extension": ".py",
   "mimetype": "text/x-python",
   "name": "python",
   "nbconvert_exporter": "python",
   "pygments_lexer": "ipython3",
   "version": "3.8.0"
  }
 },
 "nbformat": 4,
 "nbformat_minor": 5
}
