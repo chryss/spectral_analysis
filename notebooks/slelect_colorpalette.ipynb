{
 "cells": [
  {
   "cell_type": "code",
   "execution_count": 2,
   "id": "6004d9c2-6ae0-40e0-86fe-ba90c74f776a",
   "metadata": {},
   "outputs": [],
   "source": [
    "import seaborn as sns\n",
    "import ipywidgets as widgets  \n",
    "from ipywidgets import *"
   ]
  },
  {
   "cell_type": "code",
   "execution_count": 4,
   "id": "031081d3-cbbf-41dd-adc1-f55fe6195059",
   "metadata": {},
   "outputs": [
    {
     "data": {
      "text/html": [
       "<svg  width=\"220\" height=\"55\"><rect x=\"0\" y=\"0\" width=\"55\" height=\"55\" style=\"fill:#edd1cb;stroke-width:2;stroke:rgb(255,255,255)\"/><rect x=\"55\" y=\"0\" width=\"55\" height=\"55\" style=\"fill:#c8879e;stroke-width:2;stroke:rgb(255,255,255)\"/><rect x=\"110\" y=\"0\" width=\"55\" height=\"55\" style=\"fill:#834c7d;stroke-width:2;stroke:rgb(255,255,255)\"/><rect x=\"165\" y=\"0\" width=\"55\" height=\"55\" style=\"fill:#2d1e3e;stroke-width:2;stroke:rgb(255,255,255)\"/></svg>"
      ],
      "text/plain": [
       "[[0.9312692223325372, 0.8201921796082118, 0.7971480974663592],\n",
       " [0.7840440880599453, 0.5292660544265891, 0.6200568926941761],\n",
       " [0.5151069036855755, 0.29801047535056074, 0.49050619139300705],\n",
       " [0.1750865648952205, 0.11840023306916837, 0.24215989137836502]]"
      ]
     },
     "execution_count": 4,
     "metadata": {},
     "output_type": "execute_result"
    }
   ],
   "source": [
    "sns.cubehelix_palette(n_colors=4)"
   ]
  },
  {
   "cell_type": "code",
   "execution_count": 17,
   "id": "8557c2b9-2579-4120-a738-8c0ef9af0040",
   "metadata": {},
   "outputs": [
    {
     "data": {
      "text/html": [
       "<svg  width=\"220\" height=\"55\"><rect x=\"0\" y=\"0\" width=\"55\" height=\"55\" style=\"fill:#f3f0f0;stroke-width:2;stroke:rgb(255,255,255)\"/><rect x=\"55\" y=\"0\" width=\"55\" height=\"55\" style=\"fill:#d2a7a1;stroke-width:2;stroke:rgb(255,255,255)\"/><rect x=\"110\" y=\"0\" width=\"55\" height=\"55\" style=\"fill:#b05d51;stroke-width:2;stroke:rgb(255,255,255)\"/><rect x=\"165\" y=\"0\" width=\"55\" height=\"55\" style=\"fill:#8f1402;stroke-width:2;stroke:rgb(255,255,255)\"/></svg>"
      ],
      "text/plain": [
       "[(0.9521738765551738, 0.941156313304555, 0.9407668387034398),\n",
       " (0.8217106889452793, 0.6535813330527098, 0.6297922715539273),\n",
       " (0.6912475013353847, 0.3660063528008648, 0.3188177044044146),\n",
       " (0.5607843137254902, 0.0784313725490196, 0.00784313725490196)]"
      ]
     },
     "execution_count": 17,
     "metadata": {},
     "output_type": "execute_result"
    }
   ],
   "source": [
    "sns.light_palette(\"xkcd:brick red\", n_colors=4)"
   ]
  },
  {
   "cell_type": "code",
   "execution_count": 34,
   "id": "bb90cbef-cb78-4bbd-be3b-debfb508bc3b",
   "metadata": {},
   "outputs": [
    {
     "data": {
      "text/html": [
       "<svg  width=\"220\" height=\"55\"><rect x=\"0\" y=\"0\" width=\"55\" height=\"55\" style=\"fill:#302222;stroke-width:2;stroke:rgb(255,255,255)\"/><rect x=\"55\" y=\"0\" width=\"55\" height=\"55\" style=\"fill:#501e17;stroke-width:2;stroke:rgb(255,255,255)\"/><rect x=\"110\" y=\"0\" width=\"55\" height=\"55\" style=\"fill:#6f190d;stroke-width:2;stroke:rgb(255,255,255)\"/><rect x=\"165\" y=\"0\" width=\"55\" height=\"55\" style=\"fill:#8f1402;stroke-width:2;stroke:rgb(255,255,255)\"/></svg>"
      ],
      "text/plain": [
       "[(0.18831416652460453, 0.13473305746348935, 0.13315859287705534),\n",
       " (0.31247088225823305, 0.1159658291586661, 0.09138677433633755),\n",
       " (0.4366275979918616, 0.09719860085384285, 0.04961495579561975),\n",
       " (0.5607843137254902, 0.0784313725490196, 0.00784313725490196)]"
      ]
     },
     "execution_count": 34,
     "metadata": {},
     "output_type": "execute_result"
    }
   ],
   "source": [
    "sns.dark_palette(\"xkcd:brick red\", n_colors=4)"
   ]
  },
  {
   "cell_type": "code",
   "execution_count": 31,
   "id": "f20368bf-52df-4eee-a7cd-97a4f2646ce9",
   "metadata": {},
   "outputs": [
    {
     "data": {
      "text/html": [
       "<svg  width=\"550\" height=\"55\"><rect x=\"0\" y=\"0\" width=\"55\" height=\"55\" style=\"fill:#1f77b4;stroke-width:2;stroke:rgb(255,255,255)\"/><rect x=\"55\" y=\"0\" width=\"55\" height=\"55\" style=\"fill:#ff7f0e;stroke-width:2;stroke:rgb(255,255,255)\"/><rect x=\"110\" y=\"0\" width=\"55\" height=\"55\" style=\"fill:#2ca02c;stroke-width:2;stroke:rgb(255,255,255)\"/><rect x=\"165\" y=\"0\" width=\"55\" height=\"55\" style=\"fill:#d62728;stroke-width:2;stroke:rgb(255,255,255)\"/><rect x=\"220\" y=\"0\" width=\"55\" height=\"55\" style=\"fill:#9467bd;stroke-width:2;stroke:rgb(255,255,255)\"/><rect x=\"275\" y=\"0\" width=\"55\" height=\"55\" style=\"fill:#8c564b;stroke-width:2;stroke:rgb(255,255,255)\"/><rect x=\"330\" y=\"0\" width=\"55\" height=\"55\" style=\"fill:#e377c2;stroke-width:2;stroke:rgb(255,255,255)\"/><rect x=\"385\" y=\"0\" width=\"55\" height=\"55\" style=\"fill:#7f7f7f;stroke-width:2;stroke:rgb(255,255,255)\"/><rect x=\"440\" y=\"0\" width=\"55\" height=\"55\" style=\"fill:#bcbd22;stroke-width:2;stroke:rgb(255,255,255)\"/><rect x=\"495\" y=\"0\" width=\"55\" height=\"55\" style=\"fill:#17becf;stroke-width:2;stroke:rgb(255,255,255)\"/></svg>"
      ],
      "text/plain": [
       "[(0.12156862745098039, 0.4666666666666667, 0.7058823529411765),\n",
       " (1.0, 0.4980392156862745, 0.054901960784313725),\n",
       " (0.17254901960784313, 0.6274509803921569, 0.17254901960784313),\n",
       " (0.8392156862745098, 0.15294117647058825, 0.1568627450980392),\n",
       " (0.5803921568627451, 0.403921568627451, 0.7411764705882353),\n",
       " (0.5490196078431373, 0.33725490196078434, 0.29411764705882354),\n",
       " (0.8901960784313725, 0.4666666666666667, 0.7607843137254902),\n",
       " (0.4980392156862745, 0.4980392156862745, 0.4980392156862745),\n",
       " (0.7372549019607844, 0.7411764705882353, 0.13333333333333333),\n",
       " (0.09019607843137255, 0.7450980392156863, 0.8117647058823529)]"
      ]
     },
     "execution_count": 31,
     "metadata": {},
     "output_type": "execute_result"
    }
   ],
   "source": [
    "pal_10 = sns.color_palette(n_colors=10)\n",
    "pal_10"
   ]
  },
  {
   "cell_type": "code",
   "execution_count": 32,
   "id": "c3fe45a8-6e1d-4b94-951d-72df17377e9a",
   "metadata": {},
   "outputs": [
    {
     "data": {
      "text/html": [
       "<svg  width=\"660\" height=\"55\"><rect x=\"0\" y=\"0\" width=\"55\" height=\"55\" style=\"fill:#a6cee3;stroke-width:2;stroke:rgb(255,255,255)\"/><rect x=\"55\" y=\"0\" width=\"55\" height=\"55\" style=\"fill:#1f78b4;stroke-width:2;stroke:rgb(255,255,255)\"/><rect x=\"110\" y=\"0\" width=\"55\" height=\"55\" style=\"fill:#b2df8a;stroke-width:2;stroke:rgb(255,255,255)\"/><rect x=\"165\" y=\"0\" width=\"55\" height=\"55\" style=\"fill:#33a02c;stroke-width:2;stroke:rgb(255,255,255)\"/><rect x=\"220\" y=\"0\" width=\"55\" height=\"55\" style=\"fill:#fb9a99;stroke-width:2;stroke:rgb(255,255,255)\"/><rect x=\"275\" y=\"0\" width=\"55\" height=\"55\" style=\"fill:#e31a1c;stroke-width:2;stroke:rgb(255,255,255)\"/><rect x=\"330\" y=\"0\" width=\"55\" height=\"55\" style=\"fill:#fdbf6f;stroke-width:2;stroke:rgb(255,255,255)\"/><rect x=\"385\" y=\"0\" width=\"55\" height=\"55\" style=\"fill:#ff7f00;stroke-width:2;stroke:rgb(255,255,255)\"/><rect x=\"440\" y=\"0\" width=\"55\" height=\"55\" style=\"fill:#cab2d6;stroke-width:2;stroke:rgb(255,255,255)\"/><rect x=\"495\" y=\"0\" width=\"55\" height=\"55\" style=\"fill:#6a3d9a;stroke-width:2;stroke:rgb(255,255,255)\"/><rect x=\"550\" y=\"0\" width=\"55\" height=\"55\" style=\"fill:#ffff99;stroke-width:2;stroke:rgb(255,255,255)\"/><rect x=\"605\" y=\"0\" width=\"55\" height=\"55\" style=\"fill:#b15928;stroke-width:2;stroke:rgb(255,255,255)\"/></svg>"
      ],
      "text/plain": [
       "[(0.6509803921568628, 0.807843137254902, 0.8901960784313725),\n",
       " (0.12156862745098039, 0.47058823529411764, 0.7058823529411765),\n",
       " (0.6980392156862745, 0.8745098039215686, 0.5411764705882353),\n",
       " (0.2, 0.6274509803921569, 0.17254901960784313),\n",
       " (0.984313725490196, 0.6039215686274509, 0.6),\n",
       " (0.8901960784313725, 0.10196078431372549, 0.10980392156862745),\n",
       " (0.9921568627450981, 0.7490196078431373, 0.43529411764705883),\n",
       " (1.0, 0.4980392156862745, 0.0),\n",
       " (0.792156862745098, 0.6980392156862745, 0.8392156862745098),\n",
       " (0.41568627450980394, 0.23921568627450981, 0.6039215686274509),\n",
       " (1.0, 1.0, 0.6),\n",
       " (0.6941176470588235, 0.34901960784313724, 0.1568627450980392)]"
      ]
     },
     "execution_count": 32,
     "metadata": {},
     "output_type": "execute_result"
    }
   ],
   "source": [
    "pal_paired = sns.color_palette(\"Paired\")\n",
    "pal_paired"
   ]
  },
  {
   "cell_type": "code",
   "execution_count": 33,
   "id": "91e10cca-e4ed-49fb-a724-49060ae69c98",
   "metadata": {},
   "outputs": [
    {
     "data": {
      "text/html": [
       "<svg  width=\"330\" height=\"55\"><rect x=\"0\" y=\"0\" width=\"55\" height=\"55\" style=\"fill:#f77189;stroke-width:2;stroke:rgb(255,255,255)\"/><rect x=\"55\" y=\"0\" width=\"55\" height=\"55\" style=\"fill:#bb9832;stroke-width:2;stroke:rgb(255,255,255)\"/><rect x=\"110\" y=\"0\" width=\"55\" height=\"55\" style=\"fill:#50b131;stroke-width:2;stroke:rgb(255,255,255)\"/><rect x=\"165\" y=\"0\" width=\"55\" height=\"55\" style=\"fill:#36ada4;stroke-width:2;stroke:rgb(255,255,255)\"/><rect x=\"220\" y=\"0\" width=\"55\" height=\"55\" style=\"fill:#3ba3ec;stroke-width:2;stroke:rgb(255,255,255)\"/><rect x=\"275\" y=\"0\" width=\"55\" height=\"55\" style=\"fill:#e866f4;stroke-width:2;stroke:rgb(255,255,255)\"/></svg>"
      ],
      "text/plain": [
       "[(0.9677975592919913, 0.44127456009157356, 0.5358103155058701),\n",
       " (0.7350228985632719, 0.5952719904750953, 0.1944419133847522),\n",
       " (0.3126890019504329, 0.6928754610296064, 0.1923704830330379),\n",
       " (0.21044753832183283, 0.6773105080456748, 0.6433941168468681),\n",
       " (0.23299120924703914, 0.639586552066035, 0.9260706093977744),\n",
       " (0.9082572436765556, 0.40195790729656516, 0.9576909250290225)]"
      ]
     },
     "execution_count": 33,
     "metadata": {},
     "output_type": "execute_result"
    }
   ],
   "source": [
    "pal_husl = sns.color_palette(\"husl\")\n",
    "pal_husl"
   ]
  },
  {
   "cell_type": "code",
   "execution_count": 3,
   "id": "aa985e32-45ec-44f1-a3fd-3a26d02fa4e5",
   "metadata": {},
   "outputs": [
    {
     "data": {
      "text/html": [
       "<svg  width=\"1100\" height=\"55\"><rect x=\"0\" y=\"0\" width=\"55\" height=\"55\" style=\"fill:#1f77b4;stroke-width:2;stroke:rgb(255,255,255)\"/><rect x=\"55\" y=\"0\" width=\"55\" height=\"55\" style=\"fill:#aec7e8;stroke-width:2;stroke:rgb(255,255,255)\"/><rect x=\"110\" y=\"0\" width=\"55\" height=\"55\" style=\"fill:#ff7f0e;stroke-width:2;stroke:rgb(255,255,255)\"/><rect x=\"165\" y=\"0\" width=\"55\" height=\"55\" style=\"fill:#ffbb78;stroke-width:2;stroke:rgb(255,255,255)\"/><rect x=\"220\" y=\"0\" width=\"55\" height=\"55\" style=\"fill:#2ca02c;stroke-width:2;stroke:rgb(255,255,255)\"/><rect x=\"275\" y=\"0\" width=\"55\" height=\"55\" style=\"fill:#98df8a;stroke-width:2;stroke:rgb(255,255,255)\"/><rect x=\"330\" y=\"0\" width=\"55\" height=\"55\" style=\"fill:#d62728;stroke-width:2;stroke:rgb(255,255,255)\"/><rect x=\"385\" y=\"0\" width=\"55\" height=\"55\" style=\"fill:#ff9896;stroke-width:2;stroke:rgb(255,255,255)\"/><rect x=\"440\" y=\"0\" width=\"55\" height=\"55\" style=\"fill:#9467bd;stroke-width:2;stroke:rgb(255,255,255)\"/><rect x=\"495\" y=\"0\" width=\"55\" height=\"55\" style=\"fill:#c5b0d5;stroke-width:2;stroke:rgb(255,255,255)\"/><rect x=\"550\" y=\"0\" width=\"55\" height=\"55\" style=\"fill:#8c564b;stroke-width:2;stroke:rgb(255,255,255)\"/><rect x=\"605\" y=\"0\" width=\"55\" height=\"55\" style=\"fill:#c49c94;stroke-width:2;stroke:rgb(255,255,255)\"/><rect x=\"660\" y=\"0\" width=\"55\" height=\"55\" style=\"fill:#e377c2;stroke-width:2;stroke:rgb(255,255,255)\"/><rect x=\"715\" y=\"0\" width=\"55\" height=\"55\" style=\"fill:#f7b6d2;stroke-width:2;stroke:rgb(255,255,255)\"/><rect x=\"770\" y=\"0\" width=\"55\" height=\"55\" style=\"fill:#7f7f7f;stroke-width:2;stroke:rgb(255,255,255)\"/><rect x=\"825\" y=\"0\" width=\"55\" height=\"55\" style=\"fill:#c7c7c7;stroke-width:2;stroke:rgb(255,255,255)\"/><rect x=\"880\" y=\"0\" width=\"55\" height=\"55\" style=\"fill:#bcbd22;stroke-width:2;stroke:rgb(255,255,255)\"/><rect x=\"935\" y=\"0\" width=\"55\" height=\"55\" style=\"fill:#dbdb8d;stroke-width:2;stroke:rgb(255,255,255)\"/><rect x=\"990\" y=\"0\" width=\"55\" height=\"55\" style=\"fill:#17becf;stroke-width:2;stroke:rgb(255,255,255)\"/><rect x=\"1045\" y=\"0\" width=\"55\" height=\"55\" style=\"fill:#9edae5;stroke-width:2;stroke:rgb(255,255,255)\"/></svg>"
      ],
      "text/plain": [
       "[(0.12156862745098039, 0.4666666666666667, 0.7058823529411765),\n",
       " (0.6823529411764706, 0.7803921568627451, 0.9098039215686274),\n",
       " (1.0, 0.4980392156862745, 0.054901960784313725),\n",
       " (1.0, 0.7333333333333333, 0.47058823529411764),\n",
       " (0.17254901960784313, 0.6274509803921569, 0.17254901960784313),\n",
       " (0.596078431372549, 0.8745098039215686, 0.5411764705882353),\n",
       " (0.8392156862745098, 0.15294117647058825, 0.1568627450980392),\n",
       " (1.0, 0.596078431372549, 0.5882352941176471),\n",
       " (0.5803921568627451, 0.403921568627451, 0.7411764705882353),\n",
       " (0.7725490196078432, 0.6901960784313725, 0.8352941176470589),\n",
       " (0.5490196078431373, 0.33725490196078434, 0.29411764705882354),\n",
       " (0.7686274509803922, 0.611764705882353, 0.5803921568627451),\n",
       " (0.8901960784313725, 0.4666666666666667, 0.7607843137254902),\n",
       " (0.9686274509803922, 0.7137254901960784, 0.8235294117647058),\n",
       " (0.4980392156862745, 0.4980392156862745, 0.4980392156862745),\n",
       " (0.7803921568627451, 0.7803921568627451, 0.7803921568627451),\n",
       " (0.7372549019607844, 0.7411764705882353, 0.13333333333333333),\n",
       " (0.8588235294117647, 0.8588235294117647, 0.5529411764705883),\n",
       " (0.09019607843137255, 0.7450980392156863, 0.8117647058823529),\n",
       " (0.6196078431372549, 0.8549019607843137, 0.8980392156862745)]"
      ]
     },
     "execution_count": 3,
     "metadata": {},
     "output_type": "execute_result"
    }
   ],
   "source": [
    "pal_long = sns.color_palette('tab20')\n",
    "pal_long"
   ]
  },
  {
   "cell_type": "code",
   "execution_count": 4,
   "id": "2b840b3a-0ce4-4a34-9963-b066ad297339",
   "metadata": {},
   "outputs": [
    {
     "data": {
      "text/html": [
       "<svg  width=\"1100\" height=\"55\"><rect x=\"0\" y=\"0\" width=\"55\" height=\"55\" style=\"fill:#393b79;stroke-width:2;stroke:rgb(255,255,255)\"/><rect x=\"55\" y=\"0\" width=\"55\" height=\"55\" style=\"fill:#5254a3;stroke-width:2;stroke:rgb(255,255,255)\"/><rect x=\"110\" y=\"0\" width=\"55\" height=\"55\" style=\"fill:#6b6ecf;stroke-width:2;stroke:rgb(255,255,255)\"/><rect x=\"165\" y=\"0\" width=\"55\" height=\"55\" style=\"fill:#9c9ede;stroke-width:2;stroke:rgb(255,255,255)\"/><rect x=\"220\" y=\"0\" width=\"55\" height=\"55\" style=\"fill:#637939;stroke-width:2;stroke:rgb(255,255,255)\"/><rect x=\"275\" y=\"0\" width=\"55\" height=\"55\" style=\"fill:#8ca252;stroke-width:2;stroke:rgb(255,255,255)\"/><rect x=\"330\" y=\"0\" width=\"55\" height=\"55\" style=\"fill:#b5cf6b;stroke-width:2;stroke:rgb(255,255,255)\"/><rect x=\"385\" y=\"0\" width=\"55\" height=\"55\" style=\"fill:#cedb9c;stroke-width:2;stroke:rgb(255,255,255)\"/><rect x=\"440\" y=\"0\" width=\"55\" height=\"55\" style=\"fill:#8c6d31;stroke-width:2;stroke:rgb(255,255,255)\"/><rect x=\"495\" y=\"0\" width=\"55\" height=\"55\" style=\"fill:#bd9e39;stroke-width:2;stroke:rgb(255,255,255)\"/><rect x=\"550\" y=\"0\" width=\"55\" height=\"55\" style=\"fill:#e7ba52;stroke-width:2;stroke:rgb(255,255,255)\"/><rect x=\"605\" y=\"0\" width=\"55\" height=\"55\" style=\"fill:#e7cb94;stroke-width:2;stroke:rgb(255,255,255)\"/><rect x=\"660\" y=\"0\" width=\"55\" height=\"55\" style=\"fill:#843c39;stroke-width:2;stroke:rgb(255,255,255)\"/><rect x=\"715\" y=\"0\" width=\"55\" height=\"55\" style=\"fill:#ad494a;stroke-width:2;stroke:rgb(255,255,255)\"/><rect x=\"770\" y=\"0\" width=\"55\" height=\"55\" style=\"fill:#d6616b;stroke-width:2;stroke:rgb(255,255,255)\"/><rect x=\"825\" y=\"0\" width=\"55\" height=\"55\" style=\"fill:#e7969c;stroke-width:2;stroke:rgb(255,255,255)\"/><rect x=\"880\" y=\"0\" width=\"55\" height=\"55\" style=\"fill:#7b4173;stroke-width:2;stroke:rgb(255,255,255)\"/><rect x=\"935\" y=\"0\" width=\"55\" height=\"55\" style=\"fill:#a55194;stroke-width:2;stroke:rgb(255,255,255)\"/><rect x=\"990\" y=\"0\" width=\"55\" height=\"55\" style=\"fill:#ce6dbd;stroke-width:2;stroke:rgb(255,255,255)\"/><rect x=\"1045\" y=\"0\" width=\"55\" height=\"55\" style=\"fill:#de9ed6;stroke-width:2;stroke:rgb(255,255,255)\"/></svg>"
      ],
      "text/plain": [
       "[(0.2235294117647059, 0.23137254901960785, 0.4745098039215686),\n",
       " (0.3215686274509804, 0.32941176470588235, 0.6392156862745098),\n",
       " (0.4196078431372549, 0.43137254901960786, 0.8117647058823529),\n",
       " (0.611764705882353, 0.6196078431372549, 0.8705882352941177),\n",
       " (0.38823529411764707, 0.4745098039215686, 0.2235294117647059),\n",
       " (0.5490196078431373, 0.6352941176470588, 0.3215686274509804),\n",
       " (0.7098039215686275, 0.8117647058823529, 0.4196078431372549),\n",
       " (0.807843137254902, 0.8588235294117647, 0.611764705882353),\n",
       " (0.5490196078431373, 0.42745098039215684, 0.19215686274509805),\n",
       " (0.7411764705882353, 0.6196078431372549, 0.2235294117647059),\n",
       " (0.9058823529411765, 0.7294117647058823, 0.3215686274509804),\n",
       " (0.9058823529411765, 0.796078431372549, 0.5803921568627451),\n",
       " (0.5176470588235295, 0.23529411764705882, 0.2235294117647059),\n",
       " (0.6784313725490196, 0.28627450980392155, 0.2901960784313726),\n",
       " (0.8392156862745098, 0.3803921568627451, 0.4196078431372549),\n",
       " (0.9058823529411765, 0.5882352941176471, 0.611764705882353),\n",
       " (0.4823529411764706, 0.2549019607843137, 0.45098039215686275),\n",
       " (0.6470588235294118, 0.3176470588235294, 0.5803921568627451),\n",
       " (0.807843137254902, 0.42745098039215684, 0.7411764705882353),\n",
       " (0.8705882352941177, 0.6196078431372549, 0.8392156862745098)]"
      ]
     },
     "execution_count": 4,
     "metadata": {},
     "output_type": "execute_result"
    }
   ],
   "source": [
    "pal_grad = sns.color_palette('tab20b')\n",
    "pal_grad"
   ]
  },
  {
   "cell_type": "code",
   "execution_count": 102,
   "id": "25ba7394-589c-4e0c-bfbf-8b1ebb837a9d",
   "metadata": {},
   "outputs": [],
   "source": [
    "colors = {\n",
    "    'Bare Ground': pal_long.as_hex()[14],\n",
    "    'Water': pal_long.as_hex()[19],\n",
    "\n",
    "    'Closed Black Spruce Forest': pal_grad.as_hex()[0],\n",
    "    'Closed Black/White Spruce Forest': pal_grad.as_hex()[1],\n",
    "    'Open Black Spruce Forest': pal_grad.as_hex()[2],\n",
    "    'Black Spruce/Tamarack Forest':  pal_long.as_hex()[0],\n",
    "    'Black Spruce Woodland with Tussocks': pal_grad.as_hex()[3],\n",
    "    'Closed White Spruce Forest': pal_grad.as_hex()[16],\n",
    "    'Open White Spruce Forest': pal_grad.as_hex()[17],\n",
    "    \n",
    "    'Closed Paper Birch Forest': pal_long.as_hex()[16],\n",
    "    'Closed Quaking Aspen Forest': pal_grad.as_hex()[5],\n",
    "    'Closed Tall Alder': pal_long.as_hex()[4],\n",
    "    'Closed Tall Birch/Willow Shrub': pal_long.as_hex()[5],\n",
    "    'Open Tall Alder Shrub': pal_grad.as_hex()[7],\n",
    "    'Open Tall Birch Shrub': pal_grad.as_hex()[6],\n",
    "\n",
    "    'Closed Spruce/Paper Birch Forest': pal_grad.as_hex()[12],\n",
    "    'Closed Quaking Aspen/White Spruce Forest': pal_grad.as_hex()[13],\n",
    "    'Closed Spruce/Paper Birch/Aspen Forest': pal_grad.as_hex()[14],\n",
    "    'Open Spruce/Paper Birch Forest': pal_grad.as_hex()[18],\n",
    "    'Open Quaking Aspen/Spruce Forest': pal_grad.as_hex()[19],\n",
    "\n",
    "    'Wet Sedge Meadow':  pal_grad.as_hex()[11],\n",
    "    'Wetlands': pal_grad.as_hex()[9],\n",
    "}\n",
    "    "
   ]
  },
  {
   "cell_type": "code",
   "execution_count": 103,
   "id": "fdcef069-fc1f-4ff1-8d50-ba7e62c3c033",
   "metadata": {},
   "outputs": [
    {
     "data": {
      "text/plain": [
       "{'Bare Ground': '#7f7f7f',\n",
       " 'Water': '#9edae5',\n",
       " 'Closed Black Spruce Forest': '#393b79',\n",
       " 'Closed Black/White Spruce Forest': '#5254a3',\n",
       " 'Open Black Spruce Forest': '#6b6ecf',\n",
       " 'Black Spruce/Tamarack Forest': '#1f77b4',\n",
       " 'Black Spruce Woodland with Tussocks': '#9c9ede',\n",
       " 'Closed White Spruce Forest': '#7b4173',\n",
       " 'Open White Spruce Forest': '#a55194',\n",
       " 'Closed Paper Birch Forest': '#bcbd22',\n",
       " 'Closed Quaking Aspen Forest': '#8ca252',\n",
       " 'Closed Tall Alder': '#2ca02c',\n",
       " 'Closed Tall Birch/Willow Shrub': '#98df8a',\n",
       " 'Open Tall Alder Shrub': '#cedb9c',\n",
       " 'Open Tall Birch Shrub': '#b5cf6b',\n",
       " 'Closed Spruce/Paper Birch Forest': '#843c39',\n",
       " 'Closed Quaking Aspen/White Spruce Forest': '#ad494a',\n",
       " 'Closed Spruce/Paper Birch/Aspen Forest': '#d6616b',\n",
       " 'Open Spruce/Paper Birch Forest': '#ce6dbd',\n",
       " 'Open Quaking Aspen/Spruce Forest': '#de9ed6',\n",
       " 'Wet Sedge Meadow': '#e7cb94',\n",
       " 'Wetlands': '#bd9e39'}"
      ]
     },
     "execution_count": 103,
     "metadata": {},
     "output_type": "execute_result"
    }
   ],
   "source": [
    "colors"
   ]
  },
  {
   "cell_type": "code",
   "execution_count": 104,
   "id": "c1fbaba3-6b66-4d81-877f-71ed283143d6",
   "metadata": {},
   "outputs": [
    {
     "data": {
      "text/html": [
       "<svg  width=\"1100\" height=\"55\"><rect x=\"0\" y=\"0\" width=\"55\" height=\"55\" style=\"fill:#393b79;stroke-width:2;stroke:rgb(255,255,255)\"/><rect x=\"55\" y=\"0\" width=\"55\" height=\"55\" style=\"fill:#5254a3;stroke-width:2;stroke:rgb(255,255,255)\"/><rect x=\"110\" y=\"0\" width=\"55\" height=\"55\" style=\"fill:#6b6ecf;stroke-width:2;stroke:rgb(255,255,255)\"/><rect x=\"165\" y=\"0\" width=\"55\" height=\"55\" style=\"fill:#9c9ede;stroke-width:2;stroke:rgb(255,255,255)\"/><rect x=\"220\" y=\"0\" width=\"55\" height=\"55\" style=\"fill:#637939;stroke-width:2;stroke:rgb(255,255,255)\"/><rect x=\"275\" y=\"0\" width=\"55\" height=\"55\" style=\"fill:#8ca252;stroke-width:2;stroke:rgb(255,255,255)\"/><rect x=\"330\" y=\"0\" width=\"55\" height=\"55\" style=\"fill:#b5cf6b;stroke-width:2;stroke:rgb(255,255,255)\"/><rect x=\"385\" y=\"0\" width=\"55\" height=\"55\" style=\"fill:#cedb9c;stroke-width:2;stroke:rgb(255,255,255)\"/><rect x=\"440\" y=\"0\" width=\"55\" height=\"55\" style=\"fill:#8c6d31;stroke-width:2;stroke:rgb(255,255,255)\"/><rect x=\"495\" y=\"0\" width=\"55\" height=\"55\" style=\"fill:#bd9e39;stroke-width:2;stroke:rgb(255,255,255)\"/><rect x=\"550\" y=\"0\" width=\"55\" height=\"55\" style=\"fill:#e7ba52;stroke-width:2;stroke:rgb(255,255,255)\"/><rect x=\"605\" y=\"0\" width=\"55\" height=\"55\" style=\"fill:#e7cb94;stroke-width:2;stroke:rgb(255,255,255)\"/><rect x=\"660\" y=\"0\" width=\"55\" height=\"55\" style=\"fill:#843c39;stroke-width:2;stroke:rgb(255,255,255)\"/><rect x=\"715\" y=\"0\" width=\"55\" height=\"55\" style=\"fill:#ad494a;stroke-width:2;stroke:rgb(255,255,255)\"/><rect x=\"770\" y=\"0\" width=\"55\" height=\"55\" style=\"fill:#d6616b;stroke-width:2;stroke:rgb(255,255,255)\"/><rect x=\"825\" y=\"0\" width=\"55\" height=\"55\" style=\"fill:#e7969c;stroke-width:2;stroke:rgb(255,255,255)\"/><rect x=\"880\" y=\"0\" width=\"55\" height=\"55\" style=\"fill:#7b4173;stroke-width:2;stroke:rgb(255,255,255)\"/><rect x=\"935\" y=\"0\" width=\"55\" height=\"55\" style=\"fill:#a55194;stroke-width:2;stroke:rgb(255,255,255)\"/><rect x=\"990\" y=\"0\" width=\"55\" height=\"55\" style=\"fill:#ce6dbd;stroke-width:2;stroke:rgb(255,255,255)\"/><rect x=\"1045\" y=\"0\" width=\"55\" height=\"55\" style=\"fill:#de9ed6;stroke-width:2;stroke:rgb(255,255,255)\"/></svg>"
      ],
      "text/plain": [
       "[(0.2235294117647059, 0.23137254901960785, 0.4745098039215686),\n",
       " (0.3215686274509804, 0.32941176470588235, 0.6392156862745098),\n",
       " (0.4196078431372549, 0.43137254901960786, 0.8117647058823529),\n",
       " (0.611764705882353, 0.6196078431372549, 0.8705882352941177),\n",
       " (0.38823529411764707, 0.4745098039215686, 0.2235294117647059),\n",
       " (0.5490196078431373, 0.6352941176470588, 0.3215686274509804),\n",
       " (0.7098039215686275, 0.8117647058823529, 0.4196078431372549),\n",
       " (0.807843137254902, 0.8588235294117647, 0.611764705882353),\n",
       " (0.5490196078431373, 0.42745098039215684, 0.19215686274509805),\n",
       " (0.7411764705882353, 0.6196078431372549, 0.2235294117647059),\n",
       " (0.9058823529411765, 0.7294117647058823, 0.3215686274509804),\n",
       " (0.9058823529411765, 0.796078431372549, 0.5803921568627451),\n",
       " (0.5176470588235295, 0.23529411764705882, 0.2235294117647059),\n",
       " (0.6784313725490196, 0.28627450980392155, 0.2901960784313726),\n",
       " (0.8392156862745098, 0.3803921568627451, 0.4196078431372549),\n",
       " (0.9058823529411765, 0.5882352941176471, 0.611764705882353),\n",
       " (0.4823529411764706, 0.2549019607843137, 0.45098039215686275),\n",
       " (0.6470588235294118, 0.3176470588235294, 0.5803921568627451),\n",
       " (0.807843137254902, 0.42745098039215684, 0.7411764705882353),\n",
       " (0.8705882352941177, 0.6196078431372549, 0.8392156862745098)]"
      ]
     },
     "execution_count": 104,
     "metadata": {},
     "output_type": "execute_result"
    }
   ],
   "source": [
    "pal_grad"
   ]
  },
  {
   "cell_type": "code",
   "execution_count": 105,
   "id": "a9ce52f8-3759-4d98-a683-9d9beb7e07e1",
   "metadata": {},
   "outputs": [
    {
     "name": "stdout",
     "output_type": "stream",
     "text": [
      "['Bare Ground', 'Water', 'Closed Black Spruce Forest', 'Closed Black/White Spruce Forest', 'Open Black Spruce Forest', 'Black Spruce/Tamarack Forest', 'Black Spruce Woodland with Tussocks', 'Closed White Spruce Forest', 'Open White Spruce Forest']\n"
     ]
    },
    {
     "data": {
      "text/html": [
       "<svg  width=\"495\" height=\"55\"><rect x=\"0\" y=\"0\" width=\"55\" height=\"55\" style=\"fill:#7f7f7f;stroke-width:2;stroke:rgb(255,255,255)\"/><rect x=\"55\" y=\"0\" width=\"55\" height=\"55\" style=\"fill:#9edae5;stroke-width:2;stroke:rgb(255,255,255)\"/><rect x=\"110\" y=\"0\" width=\"55\" height=\"55\" style=\"fill:#393b79;stroke-width:2;stroke:rgb(255,255,255)\"/><rect x=\"165\" y=\"0\" width=\"55\" height=\"55\" style=\"fill:#5254a3;stroke-width:2;stroke:rgb(255,255,255)\"/><rect x=\"220\" y=\"0\" width=\"55\" height=\"55\" style=\"fill:#6b6ecf;stroke-width:2;stroke:rgb(255,255,255)\"/><rect x=\"275\" y=\"0\" width=\"55\" height=\"55\" style=\"fill:#1f77b4;stroke-width:2;stroke:rgb(255,255,255)\"/><rect x=\"330\" y=\"0\" width=\"55\" height=\"55\" style=\"fill:#9c9ede;stroke-width:2;stroke:rgb(255,255,255)\"/><rect x=\"385\" y=\"0\" width=\"55\" height=\"55\" style=\"fill:#7b4173;stroke-width:2;stroke:rgb(255,255,255)\"/><rect x=\"440\" y=\"0\" width=\"55\" height=\"55\" style=\"fill:#a55194;stroke-width:2;stroke:rgb(255,255,255)\"/></svg>"
      ],
      "text/plain": [
       "[(0.4980392156862745, 0.4980392156862745, 0.4980392156862745),\n",
       " (0.6196078431372549, 0.8549019607843137, 0.8980392156862745),\n",
       " (0.2235294117647059, 0.23137254901960785, 0.4745098039215686),\n",
       " (0.3215686274509804, 0.32941176470588235, 0.6392156862745098),\n",
       " (0.4196078431372549, 0.43137254901960786, 0.8117647058823529),\n",
       " (0.12156862745098039, 0.4666666666666667, 0.7058823529411765),\n",
       " (0.611764705882353, 0.6196078431372549, 0.8705882352941177),\n",
       " (0.4823529411764706, 0.2549019607843137, 0.45098039215686275),\n",
       " (0.6470588235294118, 0.3176470588235294, 0.5803921568627451)]"
      ]
     },
     "execution_count": 105,
     "metadata": {},
     "output_type": "execute_result"
    }
   ],
   "source": [
    "print(list(colors.keys())[:9])\n",
    "sns.color_palette(list(colors.values())[:9])"
   ]
  },
  {
   "cell_type": "code",
   "execution_count": 106,
   "id": "db58341c-e9ac-4c5c-b580-754c2e504701",
   "metadata": {},
   "outputs": [
    {
     "name": "stdout",
     "output_type": "stream",
     "text": [
      "['Closed Paper Birch Forest', 'Closed Quaking Aspen Forest', 'Closed Tall Alder', 'Closed Tall Birch/Willow Shrub', 'Open Tall Alder Shrub', 'Open Tall Birch Shrub']\n"
     ]
    },
    {
     "data": {
      "text/html": [
       "<svg  width=\"330\" height=\"55\"><rect x=\"0\" y=\"0\" width=\"55\" height=\"55\" style=\"fill:#bcbd22;stroke-width:2;stroke:rgb(255,255,255)\"/><rect x=\"55\" y=\"0\" width=\"55\" height=\"55\" style=\"fill:#8ca252;stroke-width:2;stroke:rgb(255,255,255)\"/><rect x=\"110\" y=\"0\" width=\"55\" height=\"55\" style=\"fill:#2ca02c;stroke-width:2;stroke:rgb(255,255,255)\"/><rect x=\"165\" y=\"0\" width=\"55\" height=\"55\" style=\"fill:#98df8a;stroke-width:2;stroke:rgb(255,255,255)\"/><rect x=\"220\" y=\"0\" width=\"55\" height=\"55\" style=\"fill:#cedb9c;stroke-width:2;stroke:rgb(255,255,255)\"/><rect x=\"275\" y=\"0\" width=\"55\" height=\"55\" style=\"fill:#b5cf6b;stroke-width:2;stroke:rgb(255,255,255)\"/></svg>"
      ],
      "text/plain": [
       "[(0.7372549019607844, 0.7411764705882353, 0.13333333333333333),\n",
       " (0.5490196078431373, 0.6352941176470588, 0.3215686274509804),\n",
       " (0.17254901960784313, 0.6274509803921569, 0.17254901960784313),\n",
       " (0.596078431372549, 0.8745098039215686, 0.5411764705882353),\n",
       " (0.807843137254902, 0.8588235294117647, 0.611764705882353),\n",
       " (0.7098039215686275, 0.8117647058823529, 0.4196078431372549)]"
      ]
     },
     "execution_count": 106,
     "metadata": {},
     "output_type": "execute_result"
    }
   ],
   "source": [
    "print(list(colors.keys())[9:15])\n",
    "sns.color_palette(list(colors.values())[9:15])"
   ]
  },
  {
   "cell_type": "code",
   "execution_count": 107,
   "id": "2ec26c25-1c33-4760-a0d9-f17de46f535c",
   "metadata": {},
   "outputs": [
    {
     "name": "stdout",
     "output_type": "stream",
     "text": [
      "['Closed Spruce/Paper Birch Forest', 'Closed Quaking Aspen/White Spruce Forest', 'Closed Spruce/Paper Birch/Aspen Forest', 'Open Spruce/Paper Birch Forest', 'Open Quaking Aspen/Spruce Forest', 'Wet Sedge Meadow', 'Wetlands']\n"
     ]
    },
    {
     "data": {
      "text/html": [
       "<svg  width=\"385\" height=\"55\"><rect x=\"0\" y=\"0\" width=\"55\" height=\"55\" style=\"fill:#843c39;stroke-width:2;stroke:rgb(255,255,255)\"/><rect x=\"55\" y=\"0\" width=\"55\" height=\"55\" style=\"fill:#ad494a;stroke-width:2;stroke:rgb(255,255,255)\"/><rect x=\"110\" y=\"0\" width=\"55\" height=\"55\" style=\"fill:#d6616b;stroke-width:2;stroke:rgb(255,255,255)\"/><rect x=\"165\" y=\"0\" width=\"55\" height=\"55\" style=\"fill:#ce6dbd;stroke-width:2;stroke:rgb(255,255,255)\"/><rect x=\"220\" y=\"0\" width=\"55\" height=\"55\" style=\"fill:#de9ed6;stroke-width:2;stroke:rgb(255,255,255)\"/><rect x=\"275\" y=\"0\" width=\"55\" height=\"55\" style=\"fill:#e7cb94;stroke-width:2;stroke:rgb(255,255,255)\"/><rect x=\"330\" y=\"0\" width=\"55\" height=\"55\" style=\"fill:#bd9e39;stroke-width:2;stroke:rgb(255,255,255)\"/></svg>"
      ],
      "text/plain": [
       "[(0.5176470588235295, 0.23529411764705882, 0.2235294117647059),\n",
       " (0.6784313725490196, 0.28627450980392155, 0.2901960784313726),\n",
       " (0.8392156862745098, 0.3803921568627451, 0.4196078431372549),\n",
       " (0.807843137254902, 0.42745098039215684, 0.7411764705882353),\n",
       " (0.8705882352941177, 0.6196078431372549, 0.8392156862745098),\n",
       " (0.9058823529411765, 0.796078431372549, 0.5803921568627451),\n",
       " (0.7411764705882353, 0.6196078431372549, 0.2235294117647059)]"
      ]
     },
     "execution_count": 107,
     "metadata": {},
     "output_type": "execute_result"
    }
   ],
   "source": [
    "print(list(colors.keys())[15:])\n",
    "sns.color_palette(list(colors.values())[15:])"
   ]
  },
  {
   "cell_type": "code",
   "execution_count": null,
   "id": "59d3b35d-0bcd-4062-9064-053a4b8fbba3",
   "metadata": {},
   "outputs": [],
   "source": []
  },
  {
   "cell_type": "code",
   "execution_count": null,
   "id": "aa3cfece-c7b3-43a5-aaf6-5da1f4d2fdcf",
   "metadata": {},
   "outputs": [],
   "source": []
  }
 ],
 "metadata": {
  "kernelspec": {
   "display_name": "Python 3 (ipykernel)",
   "language": "python",
   "name": "python3"
  },
  "language_info": {
   "codemirror_mode": {
    "name": "ipython",
    "version": 3
   },
   "file_extension": ".py",
   "mimetype": "text/x-python",
   "name": "python",
   "nbconvert_exporter": "python",
   "pygments_lexer": "ipython3",
   "version": "3.8.13"
  }
 },
 "nbformat": 4,
 "nbformat_minor": 5
}
